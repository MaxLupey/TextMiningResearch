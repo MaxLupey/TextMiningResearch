{
 "cells": [
  {
   "cell_type": "code",
   "execution_count": 43,
   "id": "cdd0a188",
   "metadata": {
    "_cell_guid": "b1076dfc-b9ad-4769-8c92-a6c4dae69d19",
    "_kg_hide-input": true,
    "_kg_hide-output": true,
    "_uuid": "8f2839f25d086af736a60e9eeb907d3b93b6e0e5",
    "execution": {
     "iopub.execute_input": "2022-02-16T16:41:51.855048Z",
     "iopub.status.busy": "2022-02-16T16:41:51.854153Z",
     "iopub.status.idle": "2022-02-16T16:41:51.862394Z",
     "shell.execute_reply": "2022-02-16T16:41:51.861612Z",
     "shell.execute_reply.started": "2022-02-16T16:37:34.670081Z"
    },
    "papermill": {
     "duration": 0.072517,
     "end_time": "2022-02-16T16:41:51.862582",
     "exception": false,
     "start_time": "2022-02-16T16:41:51.790065",
     "status": "completed"
    },
    "tags": [],
    "ExecuteTime": {
     "end_time": "2023-12-20T15:51:05.082215600Z",
     "start_time": "2023-12-20T15:51:03.038130600Z"
    }
   },
   "outputs": [
    {
     "name": "stdout",
     "output_type": "stream",
     "text": [
      ".\\data\\factcheck.csv\n",
      ".\\data\\liar.csv\n",
      ".\\data\\md5sums.txt\n",
      ".\\data\\politifact.csv\n"
     ]
    }
   ],
   "source": [
    "# This Python 3 environment comes with many helpful analytics libraries installed\n",
    "# It is defined by the kaggle/python Docker image: https://github.com/kaggle/docker-python\n",
    "# For example, here's several helpful packages to load\n",
    "\n",
    "import numpy as np # linear algebra\n",
    "import pandas as pd # data processing, CSV file I/O (e.g. pd.read_csv)\n",
    "\n",
    "# Input data files are available in the read-only \"../input/\" directory\n",
    "# For example, running this (by clicking run or pressing Shift+Enter) will list all files under the input directory\n",
    "\n",
    "import os\n",
    "for dirname, _, filenames in os.walk('.\\\\data'):\n",
    "    for filename in filenames:\n",
    "        print(os.path.join(dirname, filename))\n",
    "\n",
    "# You can write up to 20GB to the current directory (/kaggle/working/) that gets preserved as output when you create a version using \"Save & Run All\" \n",
    "# You can also write temporary files to /kaggle/temp/, but they won't be saved outside of the current session"
   ]
  },
  {
   "cell_type": "markdown",
   "id": "0bf0a8d0",
   "metadata": {
    "papermill": {
     "duration": 0.048929,
     "end_time": "2022-02-16T16:41:51.961605",
     "exception": false,
     "start_time": "2022-02-16T16:41:51.912676",
     "status": "completed"
    },
    "tags": []
   },
   "source": [
    "According to Jimmy Gomez,  **\"When fake news is repeated, it becomes difficult for the public to discern what's real \"**\n",
    "\n",
    "Hence, in this notebook let's predict ✍ the fake news 📜 & keep on sharing the truth 🧾 to everyone across the universe👍"
   ]
  },
  {
   "cell_type": "markdown",
   "id": "d170a991",
   "metadata": {
    "execution": {
     "iopub.execute_input": "2022-01-30T01:24:45.526955Z",
     "iopub.status.busy": "2022-01-30T01:24:45.526689Z",
     "iopub.status.idle": "2022-01-30T01:24:45.532773Z",
     "shell.execute_reply": "2022-01-30T01:24:45.53165Z",
     "shell.execute_reply.started": "2022-01-30T01:24:45.526921Z"
    },
    "papermill": {
     "duration": 0.047647,
     "end_time": "2022-02-16T16:41:52.056484",
     "exception": false,
     "start_time": "2022-02-16T16:41:52.008837",
     "status": "completed"
    },
    "tags": []
   },
   "source": [
    "**IMPORTING LIBRARIES**"
   ]
  },
  {
   "cell_type": "code",
   "execution_count": 44,
   "id": "63cd5d89",
   "metadata": {
    "execution": {
     "iopub.execute_input": "2022-02-16T16:41:52.158411Z",
     "iopub.status.busy": "2022-02-16T16:41:52.157788Z",
     "iopub.status.idle": "2022-02-16T16:41:53.857628Z",
     "shell.execute_reply": "2022-02-16T16:41:53.858209Z",
     "shell.execute_reply.started": "2022-02-16T16:37:34.704161Z"
    },
    "papermill": {
     "duration": 1.754249,
     "end_time": "2022-02-16T16:41:53.858408",
     "exception": false,
     "start_time": "2022-02-16T16:41:52.104159",
     "status": "completed"
    },
    "tags": [],
    "ExecuteTime": {
     "end_time": "2023-12-20T15:51:05.779980400Z",
     "start_time": "2023-12-20T15:51:05.049215900Z"
    }
   },
   "outputs": [],
   "source": [
    "import numpy as np\n",
    "import pandas as pd\n",
    "import re\n",
    "import nltk\n",
    "from nltk.corpus import stopwords\n",
    "from nltk.stem.porter import PorterStemmer\n",
    "from sklearn.feature_extraction.text import TfidfVectorizer\n",
    "from sklearn.model_selection import train_test_split\n",
    "from sklearn.linear_model import LogisticRegression\n",
    "from sklearn.metrics import accuracy_score\n",
    "from nltk.stem.porter import PorterStemmer\n",
    "from sklearn.metrics import confusion_matrix\n",
    "from sklearn.metrics import classification_report\n",
    "from tqdm import tqdm"
   ]
  },
  {
   "cell_type": "code",
   "execution_count": 45,
   "id": "cd35afeb",
   "metadata": {
    "execution": {
     "iopub.execute_input": "2022-02-16T16:41:53.962335Z",
     "iopub.status.busy": "2022-02-16T16:41:53.961332Z",
     "iopub.status.idle": "2022-02-16T16:41:54.102673Z",
     "shell.execute_reply": "2022-02-16T16:41:54.103171Z",
     "shell.execute_reply.started": "2022-02-16T16:37:36.515857Z"
    },
    "papermill": {
     "duration": 0.195994,
     "end_time": "2022-02-16T16:41:54.103391",
     "exception": false,
     "start_time": "2022-02-16T16:41:53.907397",
     "status": "completed"
    },
    "tags": [],
    "ExecuteTime": {
     "end_time": "2023-12-20T15:51:06.136230100Z",
     "start_time": "2023-12-20T15:51:05.672423Z"
    }
   },
   "outputs": [
    {
     "name": "stderr",
     "output_type": "stream",
     "text": [
      "[nltk_data] Downloading package stopwords to\n",
      "[nltk_data]     C:\\Users\\artem\\AppData\\Roaming\\nltk_data...\n",
      "[nltk_data]   Package stopwords is already up-to-date!\n"
     ]
    },
    {
     "data": {
      "text/plain": "True"
     },
     "execution_count": 45,
     "metadata": {},
     "output_type": "execute_result"
    }
   ],
   "source": [
    "nltk.download('stopwords')"
   ]
  },
  {
   "cell_type": "code",
   "execution_count": 46,
   "id": "6a36d842",
   "metadata": {
    "_kg_hide-output": true,
    "execution": {
     "iopub.execute_input": "2022-02-16T16:41:54.207659Z",
     "iopub.status.busy": "2022-02-16T16:41:54.206831Z",
     "iopub.status.idle": "2022-02-16T16:41:54.212578Z",
     "shell.execute_reply": "2022-02-16T16:41:54.213045Z",
     "shell.execute_reply.started": "2022-02-16T16:37:36.658065Z"
    },
    "papermill": {
     "duration": 0.061291,
     "end_time": "2022-02-16T16:41:54.213239",
     "exception": false,
     "start_time": "2022-02-16T16:41:54.151948",
     "status": "completed"
    },
    "tags": [],
    "ExecuteTime": {
     "end_time": "2023-12-20T15:51:06.587476700Z",
     "start_time": "2023-12-20T15:51:05.980096900Z"
    }
   },
   "outputs": [
    {
     "name": "stdout",
     "output_type": "stream",
     "text": [
      "['i', 'me', 'my', 'myself', 'we', 'our', 'ours', 'ourselves', 'you', \"you're\", \"you've\", \"you'll\", \"you'd\", 'your', 'yours', 'yourself', 'yourselves', 'he', 'him', 'his', 'himself', 'she', \"she's\", 'her', 'hers', 'herself', 'it', \"it's\", 'its', 'itself', 'they', 'them', 'their', 'theirs', 'themselves', 'what', 'which', 'who', 'whom', 'this', 'that', \"that'll\", 'these', 'those', 'am', 'is', 'are', 'was', 'were', 'be', 'been', 'being', 'have', 'has', 'had', 'having', 'do', 'does', 'did', 'doing', 'a', 'an', 'the', 'and', 'but', 'if', 'or', 'because', 'as', 'until', 'while', 'of', 'at', 'by', 'for', 'with', 'about', 'against', 'between', 'into', 'through', 'during', 'before', 'after', 'above', 'below', 'to', 'from', 'up', 'down', 'in', 'out', 'on', 'off', 'over', 'under', 'again', 'further', 'then', 'once', 'here', 'there', 'when', 'where', 'why', 'how', 'all', 'any', 'both', 'each', 'few', 'more', 'most', 'other', 'some', 'such', 'no', 'nor', 'not', 'only', 'own', 'same', 'so', 'than', 'too', 'very', 's', 't', 'can', 'will', 'just', 'don', \"don't\", 'should', \"should've\", 'now', 'd', 'll', 'm', 'o', 're', 've', 'y', 'ain', 'aren', \"aren't\", 'couldn', \"couldn't\", 'didn', \"didn't\", 'doesn', \"doesn't\", 'hadn', \"hadn't\", 'hasn', \"hasn't\", 'haven', \"haven't\", 'isn', \"isn't\", 'ma', 'mightn', \"mightn't\", 'mustn', \"mustn't\", 'needn', \"needn't\", 'shan', \"shan't\", 'shouldn', \"shouldn't\", 'wasn', \"wasn't\", 'weren', \"weren't\", 'won', \"won't\", 'wouldn', \"wouldn't\"]\n"
     ]
    }
   ],
   "source": [
    "# printing the stopwords in English\n",
    "print(stopwords.words('english'))\n",
    "tqdm.pandas()"
   ]
  },
  {
   "cell_type": "markdown",
   "id": "36fce73a",
   "metadata": {
    "papermill": {
     "duration": 0.048953,
     "end_time": "2022-02-16T16:41:54.312015",
     "exception": false,
     "start_time": "2022-02-16T16:41:54.263062",
     "status": "completed"
    },
    "tags": []
   },
   "source": [
    "**PRE PROCESSING OF DATA**"
   ]
  },
  {
   "cell_type": "code",
   "execution_count": 47,
   "id": "0b2ca5e8",
   "metadata": {
    "execution": {
     "iopub.execute_input": "2022-02-16T16:41:54.415820Z",
     "iopub.status.busy": "2022-02-16T16:41:54.414948Z",
     "iopub.status.idle": "2022-02-16T16:41:57.213481Z",
     "shell.execute_reply": "2022-02-16T16:41:57.214008Z",
     "shell.execute_reply.started": "2022-02-16T16:37:36.667443Z"
    },
    "papermill": {
     "duration": 2.852975,
     "end_time": "2022-02-16T16:41:57.214200",
     "exception": false,
     "start_time": "2022-02-16T16:41:54.361225",
     "status": "completed"
    },
    "tags": [],
    "ExecuteTime": {
     "end_time": "2023-12-20T15:51:09.578112400Z",
     "start_time": "2023-12-20T15:51:06.357340300Z"
    }
   },
   "outputs": [
    {
     "data": {
      "text/plain": "   id target                                               text  \\\n0   1  false  Does most of U.S. aid to foreign countries con...   \n1   2   true  In a recent appearance in New Hampshire, Democ...   \n2   3   true  U.S. Sen. Ted Cruz wants people to know that T...   \n3   4  false  An Instagram post attributes a dystopian state...   \n4   5  false  An Election Day glitch in eastern Pennsylvania...   \n\n                                                name  \\\n0  Looking at “American aid to other countries … ...   \n1  “We sell arms to 60% of the world's autocrats....   \n2  “We produce a lot more wind energy in Texas th...   \n3  Quotes House Speaker Mike Johnson as saying, “...   \n4  On Nov. 7, 2023, Pennsylvania voting machines ...   \n\n                                                link  target_numeric  \n0  https://www.politifact.com/factchecks/2023/nov...               0  \n1  https://www.politifact.com/factchecks/2023/nov...               1  \n2  https://www.politifact.com/factchecks/2023/nov...               1  \n3  https://www.politifact.com/factchecks/2023/nov...               0  \n4  https://www.politifact.com/factchecks/2023/nov...               0  ",
      "text/html": "<div>\n<style scoped>\n    .dataframe tbody tr th:only-of-type {\n        vertical-align: middle;\n    }\n\n    .dataframe tbody tr th {\n        vertical-align: top;\n    }\n\n    .dataframe thead th {\n        text-align: right;\n    }\n</style>\n<table border=\"1\" class=\"dataframe\">\n  <thead>\n    <tr style=\"text-align: right;\">\n      <th></th>\n      <th>id</th>\n      <th>target</th>\n      <th>text</th>\n      <th>name</th>\n      <th>link</th>\n      <th>target_numeric</th>\n    </tr>\n  </thead>\n  <tbody>\n    <tr>\n      <th>0</th>\n      <td>1</td>\n      <td>false</td>\n      <td>Does most of U.S. aid to foreign countries con...</td>\n      <td>Looking at “American aid to other countries … ...</td>\n      <td>https://www.politifact.com/factchecks/2023/nov...</td>\n      <td>0</td>\n    </tr>\n    <tr>\n      <th>1</th>\n      <td>2</td>\n      <td>true</td>\n      <td>In a recent appearance in New Hampshire, Democ...</td>\n      <td>“We sell arms to 60% of the world's autocrats....</td>\n      <td>https://www.politifact.com/factchecks/2023/nov...</td>\n      <td>1</td>\n    </tr>\n    <tr>\n      <th>2</th>\n      <td>3</td>\n      <td>true</td>\n      <td>U.S. Sen. Ted Cruz wants people to know that T...</td>\n      <td>“We produce a lot more wind energy in Texas th...</td>\n      <td>https://www.politifact.com/factchecks/2023/nov...</td>\n      <td>1</td>\n    </tr>\n    <tr>\n      <th>3</th>\n      <td>4</td>\n      <td>false</td>\n      <td>An Instagram post attributes a dystopian state...</td>\n      <td>Quotes House Speaker Mike Johnson as saying, “...</td>\n      <td>https://www.politifact.com/factchecks/2023/nov...</td>\n      <td>0</td>\n    </tr>\n    <tr>\n      <th>4</th>\n      <td>5</td>\n      <td>false</td>\n      <td>An Election Day glitch in eastern Pennsylvania...</td>\n      <td>On Nov. 7, 2023, Pennsylvania voting machines ...</td>\n      <td>https://www.politifact.com/factchecks/2023/nov...</td>\n      <td>0</td>\n    </tr>\n  </tbody>\n</table>\n</div>"
     },
     "execution_count": 47,
     "metadata": {},
     "output_type": "execute_result"
    }
   ],
   "source": [
    "news_data = pd.read_csv('./data/politifact.csv')\n",
    "news_data.head()"
   ]
  },
  {
   "cell_type": "code",
   "execution_count": 48,
   "id": "f8b89f84",
   "metadata": {
    "execution": {
     "iopub.execute_input": "2022-02-16T16:41:57.319688Z",
     "iopub.status.busy": "2022-02-16T16:41:57.318877Z",
     "iopub.status.idle": "2022-02-16T16:41:57.321964Z",
     "shell.execute_reply": "2022-02-16T16:41:57.322497Z",
     "shell.execute_reply.started": "2022-02-16T16:37:39.378897Z"
    },
    "papermill": {
     "duration": 0.059124,
     "end_time": "2022-02-16T16:41:57.322662",
     "exception": false,
     "start_time": "2022-02-16T16:41:57.263538",
     "status": "completed"
    },
    "tags": [],
    "ExecuteTime": {
     "end_time": "2023-12-20T15:51:09.733219800Z",
     "start_time": "2023-12-20T15:51:09.455559600Z"
    }
   },
   "outputs": [
    {
     "data": {
      "text/plain": "(23640, 6)"
     },
     "execution_count": 48,
     "metadata": {},
     "output_type": "execute_result"
    }
   ],
   "source": [
    "news_data.shape"
   ]
  },
  {
   "cell_type": "code",
   "execution_count": 49,
   "id": "0bbdce1f",
   "metadata": {
    "execution": {
     "iopub.execute_input": "2022-02-16T16:41:57.423915Z",
     "iopub.status.busy": "2022-02-16T16:41:57.423025Z",
     "iopub.status.idle": "2022-02-16T16:41:57.440652Z",
     "shell.execute_reply": "2022-02-16T16:41:57.441855Z",
     "shell.execute_reply.started": "2022-02-16T16:37:39.386785Z"
    },
    "papermill": {
     "duration": 0.070779,
     "end_time": "2022-02-16T16:41:57.442157",
     "exception": false,
     "start_time": "2022-02-16T16:41:57.371378",
     "status": "completed"
    },
    "tags": [],
    "ExecuteTime": {
     "end_time": "2023-12-20T15:51:09.859775200Z",
     "start_time": "2023-12-20T15:51:09.481553600Z"
    }
   },
   "outputs": [
    {
     "data": {
      "text/plain": "id                0\ntarget            0\ntext              0\nname              0\nlink              0\ntarget_numeric    0\ndtype: int64"
     },
     "execution_count": 49,
     "metadata": {},
     "output_type": "execute_result"
    }
   ],
   "source": [
    "# counting the number of missing values in the dataset\n",
    "news_data.isnull().sum()"
   ]
  },
  {
   "cell_type": "code",
   "execution_count": 50,
   "id": "ad460504",
   "metadata": {
    "execution": {
     "iopub.execute_input": "2022-02-16T16:41:57.561433Z",
     "iopub.status.busy": "2022-02-16T16:41:57.551839Z",
     "iopub.status.idle": "2022-02-16T16:41:57.566314Z",
     "shell.execute_reply": "2022-02-16T16:41:57.565759Z",
     "shell.execute_reply.started": "2022-02-16T16:37:39.418337Z"
    },
    "papermill": {
     "duration": 0.069239,
     "end_time": "2022-02-16T16:41:57.566475",
     "exception": false,
     "start_time": "2022-02-16T16:41:57.497236",
     "status": "completed"
    },
    "tags": [],
    "ExecuteTime": {
     "end_time": "2023-12-20T15:51:09.999328400Z",
     "start_time": "2023-12-20T15:51:09.536113900Z"
    }
   },
   "outputs": [],
   "source": [
    "# replacing the null values with empty string\n",
    "news_data = news_data.fillna('')"
   ]
  },
  {
   "cell_type": "code",
   "execution_count": 51,
   "id": "fa205622",
   "metadata": {
    "execution": {
     "iopub.execute_input": "2022-02-16T16:41:57.669601Z",
     "iopub.status.busy": "2022-02-16T16:41:57.668985Z",
     "iopub.status.idle": "2022-02-16T16:41:57.685363Z",
     "shell.execute_reply": "2022-02-16T16:41:57.685950Z",
     "shell.execute_reply.started": "2022-02-16T16:37:39.439758Z"
    },
    "papermill": {
     "duration": 0.069786,
     "end_time": "2022-02-16T16:41:57.686139",
     "exception": false,
     "start_time": "2022-02-16T16:41:57.616353",
     "status": "completed"
    },
    "tags": [],
    "ExecuteTime": {
     "end_time": "2023-12-20T15:51:10.373533900Z",
     "start_time": "2023-12-20T15:51:09.613670800Z"
    }
   },
   "outputs": [
    {
     "data": {
      "text/plain": "id                0\ntarget            0\ntext              0\nname              0\nlink              0\ntarget_numeric    0\ndtype: int64"
     },
     "execution_count": 51,
     "metadata": {},
     "output_type": "execute_result"
    }
   ],
   "source": [
    "# checking the number of missing values in the dataset\n",
    "news_data.isnull().sum()"
   ]
  },
  {
   "cell_type": "code",
   "execution_count": 52,
   "id": "914c9d15",
   "metadata": {
    "execution": {
     "iopub.execute_input": "2022-02-16T16:41:57.795179Z",
     "iopub.status.busy": "2022-02-16T16:41:57.794543Z",
     "iopub.status.idle": "2022-02-16T16:41:57.806608Z",
     "shell.execute_reply": "2022-02-16T16:41:57.807098Z",
     "shell.execute_reply.started": "2022-02-16T16:37:39.471672Z"
    },
    "papermill": {
     "duration": 0.070252,
     "end_time": "2022-02-16T16:41:57.807288",
     "exception": false,
     "start_time": "2022-02-16T16:41:57.737036",
     "status": "completed"
    },
    "tags": [],
    "ExecuteTime": {
     "end_time": "2023-12-20T15:51:10.597720700Z",
     "start_time": "2023-12-20T15:51:09.670677600Z"
    }
   },
   "outputs": [],
   "source": [
    "# merging the author name and news title\n",
    "news_data['content'] = news_data['name']+' '+news_data['text']"
   ]
  },
  {
   "cell_type": "code",
   "execution_count": 53,
   "id": "df5afe1f",
   "metadata": {
    "execution": {
     "iopub.execute_input": "2022-02-16T16:41:57.915904Z",
     "iopub.status.busy": "2022-02-16T16:41:57.914201Z",
     "iopub.status.idle": "2022-02-16T16:41:57.919811Z",
     "shell.execute_reply": "2022-02-16T16:41:57.919032Z",
     "shell.execute_reply.started": "2022-02-16T16:37:39.493872Z"
    },
    "papermill": {
     "duration": 0.062639,
     "end_time": "2022-02-16T16:41:57.920012",
     "exception": false,
     "start_time": "2022-02-16T16:41:57.857373",
     "status": "completed"
    },
    "tags": [],
    "ExecuteTime": {
     "end_time": "2023-12-20T15:51:10.614268500Z",
     "start_time": "2023-12-20T15:51:09.941314700Z"
    }
   },
   "outputs": [
    {
     "name": "stdout",
     "output_type": "stream",
     "text": [
      "0        Looking at “American aid to other countries … ...\n",
      "1        “We sell arms to 60% of the world's autocrats....\n",
      "2        “We produce a lot more wind energy in Texas th...\n",
      "3        Quotes House Speaker Mike Johnson as saying, “...\n",
      "4        On Nov. 7, 2023, Pennsylvania voting machines ...\n",
      "                               ...                        \n",
      "23635    \"New Mexico was 46th in teacher pay (when he w...\n",
      "23636    \"We now have the greatest income inequality si...\n",
      "23637    \"For every single scientist that tells you (gl...\n",
      "23638    \"Tommy Thompson is the father of welfare refor...\n",
      "23639    \"Tommy Thompson created the first school choic...\n",
      "Name: content, Length: 23640, dtype: object\n"
     ]
    }
   ],
   "source": [
    "print(news_data['content'])"
   ]
  },
  {
   "cell_type": "code",
   "execution_count": 54,
   "id": "7618bddf",
   "metadata": {
    "execution": {
     "iopub.execute_input": "2022-02-16T16:41:58.030797Z",
     "iopub.status.busy": "2022-02-16T16:41:58.030125Z",
     "iopub.status.idle": "2022-02-16T16:41:58.043059Z",
     "shell.execute_reply": "2022-02-16T16:41:58.043655Z",
     "shell.execute_reply.started": "2022-02-16T16:37:39.512259Z"
    },
    "papermill": {
     "duration": 0.071773,
     "end_time": "2022-02-16T16:41:58.043865",
     "exception": false,
     "start_time": "2022-02-16T16:41:57.972092",
     "status": "completed"
    },
    "tags": [],
    "ExecuteTime": {
     "end_time": "2023-12-20T15:51:10.847384900Z",
     "start_time": "2023-12-20T15:51:09.976311400Z"
    }
   },
   "outputs": [],
   "source": [
    "# separating the data & label\n",
    "\n",
    "## Get the Independent Features\n",
    "X = news_data.drop(columns='target_numeric', axis=1)\n",
    "## Get the Dependent features\n",
    "Y = news_data['target_numeric']"
   ]
  },
  {
   "cell_type": "code",
   "execution_count": 55,
   "id": "c1ffe0d7",
   "metadata": {
    "execution": {
     "iopub.execute_input": "2022-02-16T16:41:58.150128Z",
     "iopub.status.busy": "2022-02-16T16:41:58.149239Z",
     "iopub.status.idle": "2022-02-16T16:41:58.158397Z",
     "shell.execute_reply": "2022-02-16T16:41:58.158973Z",
     "shell.execute_reply.started": "2022-02-16T16:37:39.536044Z"
    },
    "papermill": {
     "duration": 0.06317,
     "end_time": "2022-02-16T16:41:58.159149",
     "exception": false,
     "start_time": "2022-02-16T16:41:58.095979",
     "status": "completed"
    },
    "tags": [],
    "ExecuteTime": {
     "end_time": "2023-12-20T15:51:11.153046300Z",
     "start_time": "2023-12-20T15:51:10.178412800Z"
    }
   },
   "outputs": [
    {
     "data": {
      "text/plain": "target_numeric\n1    13550\n0    10090\nName: count, dtype: int64"
     },
     "execution_count": 55,
     "metadata": {},
     "output_type": "execute_result"
    }
   ],
   "source": [
    "Y.value_counts()"
   ]
  },
  {
   "cell_type": "code",
   "execution_count": 56,
   "id": "967841a9",
   "metadata": {
    "execution": {
     "iopub.execute_input": "2022-02-16T16:41:58.265951Z",
     "iopub.status.busy": "2022-02-16T16:41:58.265047Z",
     "iopub.status.idle": "2022-02-16T16:41:58.269972Z",
     "shell.execute_reply": "2022-02-16T16:41:58.270481Z",
     "shell.execute_reply.started": "2022-02-16T16:37:39.546501Z"
    },
    "papermill": {
     "duration": 0.059919,
     "end_time": "2022-02-16T16:41:58.270655",
     "exception": false,
     "start_time": "2022-02-16T16:41:58.210736",
     "status": "completed"
    },
    "tags": [],
    "ExecuteTime": {
     "end_time": "2023-12-20T15:51:11.254600500Z",
     "start_time": "2023-12-20T15:51:10.235966400Z"
    }
   },
   "outputs": [
    {
     "data": {
      "text/plain": "(23640, 6)"
     },
     "execution_count": 56,
     "metadata": {},
     "output_type": "execute_result"
    }
   ],
   "source": [
    "X.shape"
   ]
  },
  {
   "cell_type": "code",
   "execution_count": 57,
   "id": "489e4626",
   "metadata": {
    "execution": {
     "iopub.execute_input": "2022-02-16T16:41:58.378157Z",
     "iopub.status.busy": "2022-02-16T16:41:58.377510Z",
     "iopub.status.idle": "2022-02-16T16:41:58.381975Z",
     "shell.execute_reply": "2022-02-16T16:41:58.382477Z",
     "shell.execute_reply.started": "2022-02-16T16:37:39.559060Z"
    },
    "papermill": {
     "duration": 0.060485,
     "end_time": "2022-02-16T16:41:58.382647",
     "exception": false,
     "start_time": "2022-02-16T16:41:58.322162",
     "status": "completed"
    },
    "tags": [],
    "ExecuteTime": {
     "end_time": "2023-12-20T15:51:11.307149300Z",
     "start_time": "2023-12-20T15:51:10.274970100Z"
    }
   },
   "outputs": [
    {
     "data": {
      "text/plain": "(23640,)"
     },
     "execution_count": 57,
     "metadata": {},
     "output_type": "execute_result"
    }
   ],
   "source": [
    "Y.shape"
   ]
  },
  {
   "cell_type": "code",
   "execution_count": 58,
   "id": "112394ab",
   "metadata": {
    "_kg_hide-output": true,
    "execution": {
     "iopub.execute_input": "2022-02-16T16:41:58.504971Z",
     "iopub.status.busy": "2022-02-16T16:41:58.497892Z",
     "iopub.status.idle": "2022-02-16T16:41:58.507928Z",
     "shell.execute_reply": "2022-02-16T16:41:58.508589Z",
     "shell.execute_reply.started": "2022-02-16T16:37:39.572613Z"
    },
    "papermill": {
     "duration": 0.074882,
     "end_time": "2022-02-16T16:41:58.508773",
     "exception": false,
     "start_time": "2022-02-16T16:41:58.433891",
     "status": "completed"
    },
    "tags": [],
    "ExecuteTime": {
     "end_time": "2023-12-20T15:51:11.345152500Z",
     "start_time": "2023-12-20T15:51:10.304533700Z"
    }
   },
   "outputs": [
    {
     "name": "stdout",
     "output_type": "stream",
     "text": [
      "          id       target                                               text  \\\n",
      "0          1        false  Does most of U.S. aid to foreign countries con...   \n",
      "1          2         true  In a recent appearance in New Hampshire, Democ...   \n",
      "2          3         true  U.S. Sen. Ted Cruz wants people to know that T...   \n",
      "3          4        false  An Instagram post attributes a dystopian state...   \n",
      "4          5        false  An Election Day glitch in eastern Pennsylvania...   \n",
      "...      ...          ...                                                ...   \n",
      "23635  23636  mostly-true  Richardson led a successful effort to raise te...   \n",
      "23636  23637         true  Indeed, economists have found that the top tie...   \n",
      "23637  23638        false  At a debate in South Carolina, Tancredo said h...   \n",
      "23638  23639         true  While it is certainly risky to claim fatherhoo...   \n",
      "23639  23640         true  The Milwaukee Parental Choice Program was esta...   \n",
      "\n",
      "                                                    name  \\\n",
      "0      Looking at “American aid to other countries … ...   \n",
      "1      “We sell arms to 60% of the world's autocrats....   \n",
      "2      “We produce a lot more wind energy in Texas th...   \n",
      "3      Quotes House Speaker Mike Johnson as saying, “...   \n",
      "4      On Nov. 7, 2023, Pennsylvania voting machines ...   \n",
      "...                                                  ...   \n",
      "23635  \"New Mexico was 46th in teacher pay (when he w...   \n",
      "23636  \"We now have the greatest income inequality si...   \n",
      "23637  \"For every single scientist that tells you (gl...   \n",
      "23638  \"Tommy Thompson is the father of welfare refor...   \n",
      "23639  \"Tommy Thompson created the first school choic...   \n",
      "\n",
      "                                                    link  \\\n",
      "0      https://www.politifact.com/factchecks/2023/nov...   \n",
      "1      https://www.politifact.com/factchecks/2023/nov...   \n",
      "2      https://www.politifact.com/factchecks/2023/nov...   \n",
      "3      https://www.politifact.com/factchecks/2023/nov...   \n",
      "4      https://www.politifact.com/factchecks/2023/nov...   \n",
      "...                                                  ...   \n",
      "23635  https://www.politifact.com/factchecks/2007/jun...   \n",
      "23636  https://www.politifact.com/factchecks/2007/jun...   \n",
      "23637  https://www.politifact.com/factchecks/2007/jun...   \n",
      "23638  https://www.politifact.com/factchecks/2007/jun...   \n",
      "23639  https://www.politifact.com/factchecks/2007/may...   \n",
      "\n",
      "                                                 content  \n",
      "0      Looking at “American aid to other countries … ...  \n",
      "1      “We sell arms to 60% of the world's autocrats....  \n",
      "2      “We produce a lot more wind energy in Texas th...  \n",
      "3      Quotes House Speaker Mike Johnson as saying, “...  \n",
      "4      On Nov. 7, 2023, Pennsylvania voting machines ...  \n",
      "...                                                  ...  \n",
      "23635  \"New Mexico was 46th in teacher pay (when he w...  \n",
      "23636  \"We now have the greatest income inequality si...  \n",
      "23637  \"For every single scientist that tells you (gl...  \n",
      "23638  \"Tommy Thompson is the father of welfare refor...  \n",
      "23639  \"Tommy Thompson created the first school choic...  \n",
      "\n",
      "[23640 rows x 6 columns]\n",
      "0        0\n",
      "1        1\n",
      "2        1\n",
      "3        0\n",
      "4        0\n",
      "        ..\n",
      "23635    1\n",
      "23636    1\n",
      "23637    0\n",
      "23638    1\n",
      "23639    1\n",
      "Name: target_numeric, Length: 23640, dtype: int64\n"
     ]
    }
   ],
   "source": [
    "print(X)\n",
    "print(Y)"
   ]
  },
  {
   "cell_type": "markdown",
   "id": "79f8fdd8",
   "metadata": {
    "papermill": {
     "duration": 0.052747,
     "end_time": "2022-02-16T16:41:58.614401",
     "exception": false,
     "start_time": "2022-02-16T16:41:58.561654",
     "status": "completed"
    },
    "tags": []
   },
   "source": [
    "**STEMMING:**\n",
    "\n",
    "* A stemming algorithm is a process of linguistic normalisation, in which the variant forms of a word are reduced to a common form.\n",
    "* In simple words, Stemming is the process of reducing a word to its Root word.\n",
    "\n",
    "* **EXAMPLES:** \n",
    "\n",
    "  1. actor, actress, acting --> act\n",
    "  2. eating, eats, eaten --> eat"
   ]
  },
  {
   "cell_type": "code",
   "execution_count": 59,
   "id": "e98ceb5f",
   "metadata": {
    "execution": {
     "iopub.execute_input": "2022-02-16T16:41:58.722141Z",
     "iopub.status.busy": "2022-02-16T16:41:58.721167Z",
     "iopub.status.idle": "2022-02-16T16:41:58.724938Z",
     "shell.execute_reply": "2022-02-16T16:41:58.725580Z",
     "shell.execute_reply.started": "2022-02-16T16:37:39.591047Z"
    },
    "papermill": {
     "duration": 0.059658,
     "end_time": "2022-02-16T16:41:58.725760",
     "exception": false,
     "start_time": "2022-02-16T16:41:58.666102",
     "status": "completed"
    },
    "tags": [],
    "ExecuteTime": {
     "end_time": "2023-12-20T15:51:11.411706500Z",
     "start_time": "2023-12-20T15:51:10.351528Z"
    }
   },
   "outputs": [],
   "source": [
    "port_stem = PorterStemmer()"
   ]
  },
  {
   "cell_type": "code",
   "execution_count": 60,
   "id": "94dc2372",
   "metadata": {
    "execution": {
     "iopub.execute_input": "2022-02-16T16:41:58.838814Z",
     "iopub.status.busy": "2022-02-16T16:41:58.838171Z",
     "iopub.status.idle": "2022-02-16T16:41:58.840766Z",
     "shell.execute_reply": "2022-02-16T16:41:58.841371Z",
     "shell.execute_reply.started": "2022-02-16T16:37:39.605265Z"
    },
    "papermill": {
     "duration": 0.063124,
     "end_time": "2022-02-16T16:41:58.841541",
     "exception": false,
     "start_time": "2022-02-16T16:41:58.778417",
     "status": "completed"
    },
    "tags": [],
    "ExecuteTime": {
     "end_time": "2023-12-20T15:51:11.447703300Z",
     "start_time": "2023-12-20T15:51:10.392594300Z"
    }
   },
   "outputs": [],
   "source": [
    "def stemming(content):\n",
    "    review = re.sub('[^a-zA-Z]',' ',content)\n",
    "    review = review.lower()\n",
    "    review = review.split()\n",
    "    review = [port_stem.stem(word) for word in review if not word in stopwords.words('english')]\n",
    "    review = ' '.join(review)\n",
    "    return review"
   ]
  },
  {
   "cell_type": "code",
   "execution_count": 61,
   "id": "350a63cc",
   "metadata": {
    "execution": {
     "iopub.execute_input": "2022-02-16T16:41:58.952520Z",
     "iopub.status.busy": "2022-02-16T16:41:58.948985Z",
     "iopub.status.idle": "2022-02-16T16:42:45.124754Z",
     "shell.execute_reply": "2022-02-16T16:42:45.125421Z",
     "shell.execute_reply.started": "2022-02-16T16:37:39.615490Z"
    },
    "papermill": {
     "duration": 46.230915,
     "end_time": "2022-02-16T16:42:45.125652",
     "exception": false,
     "start_time": "2022-02-16T16:41:58.894737",
     "status": "completed"
    },
    "tags": [],
    "ExecuteTime": {
     "end_time": "2023-12-20T17:36:40.452580100Z",
     "start_time": "2023-12-20T15:51:10.426143900Z"
    }
   },
   "outputs": [
    {
     "name": "stderr",
     "output_type": "stream",
     "text": [
      "100%|██████████| 23640/23640 [1:45:29<00:00,  3.73it/s]  \n"
     ]
    }
   ],
   "source": [
    "news_data['content'] = news_data['content'].progress_apply(stemming)"
   ]
  },
  {
   "cell_type": "code",
   "execution_count": 62,
   "id": "b839a5bd",
   "metadata": {
    "execution": {
     "iopub.execute_input": "2022-02-16T16:42:45.265256Z",
     "iopub.status.busy": "2022-02-16T16:42:45.264377Z",
     "iopub.status.idle": "2022-02-16T16:42:45.267720Z",
     "shell.execute_reply": "2022-02-16T16:42:45.268489Z",
     "shell.execute_reply.started": "2022-02-16T16:38:25.828766Z"
    },
    "papermill": {
     "duration": 0.076832,
     "end_time": "2022-02-16T16:42:45.268709",
     "exception": false,
     "start_time": "2022-02-16T16:42:45.191877",
     "status": "completed"
    },
    "tags": [],
    "ExecuteTime": {
     "end_time": "2023-12-20T17:36:40.792218200Z",
     "start_time": "2023-12-20T17:36:40.367026500Z"
    }
   },
   "outputs": [
    {
     "name": "stdout",
     "output_type": "stream",
     "text": [
      "0        look american aid countri vast major militari ...\n",
      "1        sell arm world autocrat world largest arm expo...\n",
      "2        produc lot wind energi texa california u sen t...\n",
      "3        quot hous speaker mike johnson say everi woman...\n",
      "4        nov pennsylvania vote machin flip vote evid el...\n",
      "                               ...                        \n",
      "23635    new mexico th teacher pay elect th richardson ...\n",
      "23636    greatest incom inequ sinc great depress inde e...\n",
      "23637    everi singl scientist tell global warm happen ...\n",
      "23638    tommi thompson father welfar reform creat grou...\n",
      "23639    tommi thompson creat first school choic progra...\n",
      "Name: content, Length: 23640, dtype: object\n"
     ]
    }
   ],
   "source": [
    "print(news_data['content'])"
   ]
  },
  {
   "cell_type": "code",
   "execution_count": 63,
   "id": "4a7acd6d",
   "metadata": {
    "execution": {
     "iopub.execute_input": "2022-02-16T16:42:45.413576Z",
     "iopub.status.busy": "2022-02-16T16:42:45.412555Z",
     "iopub.status.idle": "2022-02-16T16:42:45.427664Z",
     "shell.execute_reply": "2022-02-16T16:42:45.428474Z",
     "shell.execute_reply.started": "2022-02-16T16:38:25.837064Z"
    },
    "papermill": {
     "duration": 0.078202,
     "end_time": "2022-02-16T16:42:45.428758",
     "exception": false,
     "start_time": "2022-02-16T16:42:45.350556",
     "status": "completed"
    },
    "tags": [],
    "ExecuteTime": {
     "end_time": "2023-12-20T17:36:41.435486400Z",
     "start_time": "2023-12-20T17:36:40.396021900Z"
    }
   },
   "outputs": [],
   "source": [
    "#separating the data and label\n",
    "X = news_data['content'].values\n",
    "Y = news_data['target_numeric'].values"
   ]
  },
  {
   "cell_type": "code",
   "execution_count": 64,
   "id": "6592e60f",
   "metadata": {
    "execution": {
     "iopub.execute_input": "2022-02-16T16:42:45.581101Z",
     "iopub.status.busy": "2022-02-16T16:42:45.580170Z",
     "iopub.status.idle": "2022-02-16T16:42:45.587557Z",
     "shell.execute_reply": "2022-02-16T16:42:45.588266Z",
     "shell.execute_reply.started": "2022-02-16T16:38:25.852967Z"
    },
    "papermill": {
     "duration": 0.090387,
     "end_time": "2022-02-16T16:42:45.588570",
     "exception": false,
     "start_time": "2022-02-16T16:42:45.498183",
     "status": "completed"
    },
    "tags": [],
    "ExecuteTime": {
     "end_time": "2023-12-20T17:36:41.513018800Z",
     "start_time": "2023-12-20T17:36:41.010302600Z"
    }
   },
   "outputs": [
    {
     "name": "stdout",
     "output_type": "stream",
     "text": [
      "['look american aid countri vast major militari aid u aid foreign countri consist militari assist democrat presidenti candid mariann williamson said nov town hall store manchest new hampshir look american aid last decad mean american aid countri williamson said remark captur politifact partner wmur tv new hampshir vast major militari aid sell arm world autocrat world largest arm export realiti offici feder data show u militari aid account minor overal u foreign aid check portion arm export separ'\n",
      " 'sell arm world autocrat world largest arm export recent appear new hampshir democrat presidenti candid mariann williamson said u world biggest arm export sell wide autocrat countri look american aid last decad mean american aid countri williamson said nov event store manchest new hampshir vast major militari aid sell arm world autocrat world largest arm export comment captur politifact partner wmur tv new hampshir correct u world largest arm export u sell heavili autocrat govern check statement militari aid share u foreign aid separ'\n",
      " 'produc lot wind energi texa california u sen ted cruz want peopl know texa california countri top wind energi produc produc lot wind energi texa california cruz said interview month cnbc last call produc lot hot air wind energi produc texa wind turbin common sight across texa cruz correct state long known oil ga domin outproduc california renew wind energi contact comment cruz spokesperson provid respons deadlin politifact examin u energi inform administr data found texa produc wind energi california also nation top produc texa gener one quarter u wind sourc electr lead countri th consecut year last year texa produc megawatt hour wind energi nearli eight time california produc megawatt hour texa wind turbin accord texa comptrol offic state u megawatt power home peak demand accord electr reliabl council texa manag state power grid texa state gener wind sourc electr iowa oklahoma kansa illinoi'\n",
      " ...\n",
      " 'everi singl scientist tell global warm happen fault stack anoth group report say opposit debat south carolina tancredo said could match stack stack scientif report support global warm fact stack would pretti lopsid tancredo wrong suggest climat scientist evenli split overwhelm consensu among human main caus global warm'\n",
      " 'tommi thompson father welfar reform creat groundbreak wisconsin work program wisconsin becam model nation intern reform certainli riski claim fatherhood major polici initi agreement across spectrum polit thought inde thompson birth even feed former u rep e clay shaw r fort lauderdal said among governor certainli take posit less quarterback ron haskin senior fellow econom studi brook institut agre claim fair term idea welfar reform demonstr could work polit claim go make sens tommi thompson make claim role thompson play everi stage substanti lawrenc mead professor polit new york univers author book first welfar work program u govern matter welfar reform wisconsin agre fair statement singl handedli crucial import singl leader'\n",
      " 'tommi thompson creat first school choic program nation give thousand milwauke student choic go school matter live much money parent make milwauke parent choic program establish first kind program allow low incom famili use state fund send children cost public privat school choic david boaz execut vice presid cato institut give thompson milwauke state legisl polli william credit creat school choic milwauke school choic reform pivot put choic nation agenda']\n"
     ]
    }
   ],
   "source": [
    "print(X)"
   ]
  },
  {
   "cell_type": "code",
   "execution_count": 65,
   "id": "2998eeaf",
   "metadata": {
    "execution": {
     "iopub.execute_input": "2022-02-16T16:42:45.726341Z",
     "iopub.status.busy": "2022-02-16T16:42:45.725368Z",
     "iopub.status.idle": "2022-02-16T16:42:45.731296Z",
     "shell.execute_reply": "2022-02-16T16:42:45.731953Z",
     "shell.execute_reply.started": "2022-02-16T16:38:25.866677Z"
    },
    "papermill": {
     "duration": 0.064278,
     "end_time": "2022-02-16T16:42:45.732138",
     "exception": false,
     "start_time": "2022-02-16T16:42:45.667860",
     "status": "completed"
    },
    "tags": [],
    "ExecuteTime": {
     "end_time": "2023-12-20T17:36:41.647109800Z",
     "start_time": "2023-12-20T17:36:41.060850100Z"
    }
   },
   "outputs": [
    {
     "name": "stdout",
     "output_type": "stream",
     "text": [
      "[0 1 1 ... 0 1 1]\n"
     ]
    }
   ],
   "source": [
    "print(Y)"
   ]
  },
  {
   "cell_type": "code",
   "execution_count": 66,
   "id": "7f7dcf07",
   "metadata": {
    "execution": {
     "iopub.execute_input": "2022-02-16T16:42:45.849249Z",
     "iopub.status.busy": "2022-02-16T16:42:45.848287Z",
     "iopub.status.idle": "2022-02-16T16:42:45.852704Z",
     "shell.execute_reply": "2022-02-16T16:42:45.852101Z",
     "shell.execute_reply.started": "2022-02-16T16:38:25.876861Z"
    },
    "papermill": {
     "duration": 0.064704,
     "end_time": "2022-02-16T16:42:45.852856",
     "exception": false,
     "start_time": "2022-02-16T16:42:45.788152",
     "status": "completed"
    },
    "tags": [],
    "ExecuteTime": {
     "end_time": "2023-12-20T17:36:41.672108300Z",
     "start_time": "2023-12-20T17:36:41.095845300Z"
    }
   },
   "outputs": [
    {
     "data": {
      "text/plain": "(23640,)"
     },
     "execution_count": 66,
     "metadata": {},
     "output_type": "execute_result"
    }
   ],
   "source": [
    "Y.shape"
   ]
  },
  {
   "cell_type": "markdown",
   "id": "3d747c56",
   "metadata": {
    "papermill": {
     "duration": 0.057029,
     "end_time": "2022-02-16T16:42:45.963969",
     "exception": false,
     "start_time": "2022-02-16T16:42:45.906940",
     "status": "completed"
    },
    "tags": []
   },
   "source": [
    "**TF-IDF stands for “Term Frequency – Inverse Document Frequency ”**\n",
    "\n",
    "* TF-IDF is a numerical statistic which measures the importance of the word in a document.\n",
    "\n",
    "* Term Frequency : Number of time a word appears in a text document.\n",
    "* Inverse Document Frequency : Measure the word is a rare word or common word in a document."
   ]
  },
  {
   "cell_type": "code",
   "execution_count": 67,
   "id": "74280e8d",
   "metadata": {
    "execution": {
     "iopub.execute_input": "2022-02-16T16:42:46.077440Z",
     "iopub.status.busy": "2022-02-16T16:42:46.076489Z",
     "iopub.status.idle": "2022-02-16T16:42:46.772601Z",
     "shell.execute_reply": "2022-02-16T16:42:46.773172Z",
     "shell.execute_reply.started": "2022-02-16T16:38:25.890612Z"
    },
    "papermill": {
     "duration": 0.754055,
     "end_time": "2022-02-16T16:42:46.773397",
     "exception": false,
     "start_time": "2022-02-16T16:42:46.019342",
     "status": "completed"
    },
    "tags": [],
    "ExecuteTime": {
     "end_time": "2023-12-20T17:36:58.263346Z",
     "start_time": "2023-12-20T17:36:41.127864400Z"
    }
   },
   "outputs": [],
   "source": [
    "# converting the textual data to numerical data\n",
    "vectorizer = TfidfVectorizer()\n",
    "vectorizer.fit(X)\n",
    "X = vectorizer.transform(X)"
   ]
  },
  {
   "cell_type": "code",
   "execution_count": 68,
   "id": "ca216c6f",
   "metadata": {
    "_kg_hide-output": true,
    "execution": {
     "iopub.execute_input": "2022-02-16T16:42:46.886769Z",
     "iopub.status.busy": "2022-02-16T16:42:46.885999Z",
     "iopub.status.idle": "2022-02-16T16:42:46.893056Z",
     "shell.execute_reply": "2022-02-16T16:42:46.893697Z",
     "shell.execute_reply.started": "2022-02-16T16:38:26.593938Z"
    },
    "papermill": {
     "duration": 0.065199,
     "end_time": "2022-02-16T16:42:46.893883",
     "exception": false,
     "start_time": "2022-02-16T16:42:46.828684",
     "status": "completed"
    },
    "tags": [],
    "ExecuteTime": {
     "end_time": "2023-12-20T17:36:58.406549Z",
     "start_time": "2023-12-20T17:36:58.269348300Z"
    }
   },
   "outputs": [
    {
     "name": "stdout",
     "output_type": "stream",
     "text": [
      "  (0, 45849)\t0.12151202780980921\n",
      "  (0, 45694)\t0.15196302688736596\n",
      "  (0, 45466)\t0.26045426561165963\n",
      "  (0, 43901)\t0.18815764812575825\n",
      "  (0, 42542)\t0.06830338585444777\n",
      "  (0, 41861)\t0.08270280454653609\n",
      "  (0, 39487)\t0.09171876767928862\n",
      "  (0, 37546)\t0.03834398129556141\n",
      "  (0, 36992)\t0.07169029245374932\n",
      "  (0, 36895)\t0.08335910983484562\n",
      "  (0, 35835)\t0.047500886325641256\n",
      "  (0, 34348)\t0.07590420607948974\n",
      "  (0, 33775)\t0.08496847549162335\n",
      "  (0, 32391)\t0.05421641704669776\n",
      "  (0, 32035)\t0.07844382646495275\n",
      "  (0, 31841)\t0.046732501726201976\n",
      "  (0, 30506)\t0.09204396733530455\n",
      "  (0, 29893)\t0.07057296883438956\n",
      "  (0, 29209)\t0.052046857480921645\n",
      "  (0, 28784)\t0.06655987444080329\n",
      "  (0, 28067)\t0.0756415798899204\n",
      "  (0, 26436)\t0.07519547766474838\n",
      "  (0, 26306)\t0.2903564275933209\n",
      "  (0, 25629)\t0.05189037248509827\n",
      "  (0, 24936)\t0.15949517215085784\n",
      "  :\t:\n",
      "  (23639, 25223)\t0.07261817203427252\n",
      "  (23639, 24590)\t0.04148095064455053\n",
      "  (23639, 24098)\t0.07139944218554042\n",
      "  (23639, 23765)\t0.0643992568839962\n",
      "  (23639, 23222)\t0.056953567021832255\n",
      "  (23639, 22000)\t0.07737617728167451\n",
      "  (23639, 20232)\t0.06629176063070889\n",
      "  (23639, 19851)\t0.06684310791063991\n",
      "  (23639, 16551)\t0.04659619924364485\n",
      "  (23639, 16386)\t0.1181801855841184\n",
      "  (23639, 15568)\t0.057512399072937814\n",
      "  (23639, 14642)\t0.08378059079466929\n",
      "  (23639, 14033)\t0.06285899978159436\n",
      "  (23639, 13659)\t0.07016691163971871\n",
      "  (23639, 13376)\t0.08292996352670402\n",
      "  (23639, 9905)\t0.07766425916611663\n",
      "  (23639, 9150)\t0.07373993236067061\n",
      "  (23639, 9138)\t0.12179092656414985\n",
      "  (23639, 8859)\t0.0599817743560769\n",
      "  (23639, 7209)\t0.5968897586287325\n",
      "  (23639, 7132)\t0.07020889242562195\n",
      "  (23639, 6534)\t0.11828554125307342\n",
      "  (23639, 4507)\t0.2068292278573941\n",
      "  (23639, 1122)\t0.06019040504289787\n",
      "  (23639, 675)\t0.09690440715808851\n"
     ]
    }
   ],
   "source": [
    "print(X)"
   ]
  },
  {
   "cell_type": "markdown",
   "id": "027bf5e4",
   "metadata": {
    "papermill": {
     "duration": 0.054019,
     "end_time": "2022-02-16T16:42:47.003095",
     "exception": false,
     "start_time": "2022-02-16T16:42:46.949076",
     "status": "completed"
    },
    "tags": []
   },
   "source": [
    "**SPLITTING THE DATASET INTO TRAINING DATA & TEST DATA:**"
   ]
  },
  {
   "cell_type": "code",
   "execution_count": 69,
   "id": "89bbf6e6",
   "metadata": {
    "execution": {
     "iopub.execute_input": "2022-02-16T16:42:47.116971Z",
     "iopub.status.busy": "2022-02-16T16:42:47.116340Z",
     "iopub.status.idle": "2022-02-16T16:42:47.133806Z",
     "shell.execute_reply": "2022-02-16T16:42:47.134287Z",
     "shell.execute_reply.started": "2022-02-16T16:38:26.606307Z"
    },
    "papermill": {
     "duration": 0.07695,
     "end_time": "2022-02-16T16:42:47.134506",
     "exception": false,
     "start_time": "2022-02-16T16:42:47.057556",
     "status": "completed"
    },
    "tags": [],
    "ExecuteTime": {
     "end_time": "2023-12-20T17:36:58.701175400Z",
     "start_time": "2023-12-20T17:36:58.332344Z"
    }
   },
   "outputs": [],
   "source": [
    "X_train, X_test, Y_train, Y_test = train_test_split(X, Y, test_size = 0.2, stratify=Y, random_state=2)"
   ]
  },
  {
   "cell_type": "markdown",
   "id": "498a14f7",
   "metadata": {
    "papermill": {
     "duration": 0.053975,
     "end_time": "2022-02-16T16:42:47.242674",
     "exception": false,
     "start_time": "2022-02-16T16:42:47.188699",
     "status": "completed"
    },
    "tags": []
   },
   "source": [
    "**LOGESTIC REGRESSION:**\n",
    "\n",
    "Logistic regression is a statistical analysis method to predict a binary outcome, such as yes or no, based on prior observations of a data set. A logistic regression model predicts a dependent data variable by analyzing the relationship between one or more existing independent variables."
   ]
  },
  {
   "cell_type": "code",
   "execution_count": 70,
   "id": "c44f9d9b",
   "metadata": {
    "execution": {
     "iopub.execute_input": "2022-02-16T16:42:47.357342Z",
     "iopub.status.busy": "2022-02-16T16:42:47.356657Z",
     "iopub.status.idle": "2022-02-16T16:42:47.359071Z",
     "shell.execute_reply": "2022-02-16T16:42:47.358571Z",
     "shell.execute_reply.started": "2022-02-16T16:38:26.633494Z"
    },
    "papermill": {
     "duration": 0.061393,
     "end_time": "2022-02-16T16:42:47.359219",
     "exception": false,
     "start_time": "2022-02-16T16:42:47.297826",
     "status": "completed"
    },
    "tags": [],
    "ExecuteTime": {
     "end_time": "2023-12-20T17:36:58.862254900Z",
     "start_time": "2023-12-20T17:36:58.414546500Z"
    }
   },
   "outputs": [],
   "source": [
    "model = LogisticRegression()"
   ]
  },
  {
   "cell_type": "code",
   "execution_count": 71,
   "id": "3371979b",
   "metadata": {
    "execution": {
     "iopub.execute_input": "2022-02-16T16:42:47.475172Z",
     "iopub.status.busy": "2022-02-16T16:42:47.474510Z",
     "iopub.status.idle": "2022-02-16T16:42:47.892800Z",
     "shell.execute_reply": "2022-02-16T16:42:47.893743Z",
     "shell.execute_reply.started": "2022-02-16T16:38:26.638852Z"
    },
    "papermill": {
     "duration": 0.479484,
     "end_time": "2022-02-16T16:42:47.894092",
     "exception": false,
     "start_time": "2022-02-16T16:42:47.414608",
     "status": "completed"
    },
    "tags": [],
    "ExecuteTime": {
     "end_time": "2023-12-20T17:37:01.949588800Z",
     "start_time": "2023-12-20T17:36:58.448562100Z"
    }
   },
   "outputs": [
    {
     "data": {
      "text/plain": "LogisticRegression()",
      "text/html": "<style>#sk-container-id-1 {color: black;}#sk-container-id-1 pre{padding: 0;}#sk-container-id-1 div.sk-toggleable {background-color: white;}#sk-container-id-1 label.sk-toggleable__label {cursor: pointer;display: block;width: 100%;margin-bottom: 0;padding: 0.3em;box-sizing: border-box;text-align: center;}#sk-container-id-1 label.sk-toggleable__label-arrow:before {content: \"▸\";float: left;margin-right: 0.25em;color: #696969;}#sk-container-id-1 label.sk-toggleable__label-arrow:hover:before {color: black;}#sk-container-id-1 div.sk-estimator:hover label.sk-toggleable__label-arrow:before {color: black;}#sk-container-id-1 div.sk-toggleable__content {max-height: 0;max-width: 0;overflow: hidden;text-align: left;background-color: #f0f8ff;}#sk-container-id-1 div.sk-toggleable__content pre {margin: 0.2em;color: black;border-radius: 0.25em;background-color: #f0f8ff;}#sk-container-id-1 input.sk-toggleable__control:checked~div.sk-toggleable__content {max-height: 200px;max-width: 100%;overflow: auto;}#sk-container-id-1 input.sk-toggleable__control:checked~label.sk-toggleable__label-arrow:before {content: \"▾\";}#sk-container-id-1 div.sk-estimator input.sk-toggleable__control:checked~label.sk-toggleable__label {background-color: #d4ebff;}#sk-container-id-1 div.sk-label input.sk-toggleable__control:checked~label.sk-toggleable__label {background-color: #d4ebff;}#sk-container-id-1 input.sk-hidden--visually {border: 0;clip: rect(1px 1px 1px 1px);clip: rect(1px, 1px, 1px, 1px);height: 1px;margin: -1px;overflow: hidden;padding: 0;position: absolute;width: 1px;}#sk-container-id-1 div.sk-estimator {font-family: monospace;background-color: #f0f8ff;border: 1px dotted black;border-radius: 0.25em;box-sizing: border-box;margin-bottom: 0.5em;}#sk-container-id-1 div.sk-estimator:hover {background-color: #d4ebff;}#sk-container-id-1 div.sk-parallel-item::after {content: \"\";width: 100%;border-bottom: 1px solid gray;flex-grow: 1;}#sk-container-id-1 div.sk-label:hover label.sk-toggleable__label {background-color: #d4ebff;}#sk-container-id-1 div.sk-serial::before {content: \"\";position: absolute;border-left: 1px solid gray;box-sizing: border-box;top: 0;bottom: 0;left: 50%;z-index: 0;}#sk-container-id-1 div.sk-serial {display: flex;flex-direction: column;align-items: center;background-color: white;padding-right: 0.2em;padding-left: 0.2em;position: relative;}#sk-container-id-1 div.sk-item {position: relative;z-index: 1;}#sk-container-id-1 div.sk-parallel {display: flex;align-items: stretch;justify-content: center;background-color: white;position: relative;}#sk-container-id-1 div.sk-item::before, #sk-container-id-1 div.sk-parallel-item::before {content: \"\";position: absolute;border-left: 1px solid gray;box-sizing: border-box;top: 0;bottom: 0;left: 50%;z-index: -1;}#sk-container-id-1 div.sk-parallel-item {display: flex;flex-direction: column;z-index: 1;position: relative;background-color: white;}#sk-container-id-1 div.sk-parallel-item:first-child::after {align-self: flex-end;width: 50%;}#sk-container-id-1 div.sk-parallel-item:last-child::after {align-self: flex-start;width: 50%;}#sk-container-id-1 div.sk-parallel-item:only-child::after {width: 0;}#sk-container-id-1 div.sk-dashed-wrapped {border: 1px dashed gray;margin: 0 0.4em 0.5em 0.4em;box-sizing: border-box;padding-bottom: 0.4em;background-color: white;}#sk-container-id-1 div.sk-label label {font-family: monospace;font-weight: bold;display: inline-block;line-height: 1.2em;}#sk-container-id-1 div.sk-label-container {text-align: center;}#sk-container-id-1 div.sk-container {/* jupyter's `normalize.less` sets `[hidden] { display: none; }` but bootstrap.min.css set `[hidden] { display: none !important; }` so we also need the `!important` here to be able to override the default hidden behavior on the sphinx rendered scikit-learn.org. See: https://github.com/scikit-learn/scikit-learn/issues/21755 */display: inline-block !important;position: relative;}#sk-container-id-1 div.sk-text-repr-fallback {display: none;}</style><div id=\"sk-container-id-1\" class=\"sk-top-container\"><div class=\"sk-text-repr-fallback\"><pre>LogisticRegression()</pre><b>In a Jupyter environment, please rerun this cell to show the HTML representation or trust the notebook. <br />On GitHub, the HTML representation is unable to render, please try loading this page with nbviewer.org.</b></div><div class=\"sk-container\" hidden><div class=\"sk-item\"><div class=\"sk-estimator sk-toggleable\"><input class=\"sk-toggleable__control sk-hidden--visually\" id=\"sk-estimator-id-1\" type=\"checkbox\" checked><label for=\"sk-estimator-id-1\" class=\"sk-toggleable__label sk-toggleable__label-arrow\">LogisticRegression</label><div class=\"sk-toggleable__content\"><pre>LogisticRegression()</pre></div></div></div></div></div>"
     },
     "execution_count": 71,
     "metadata": {},
     "output_type": "execute_result"
    }
   ],
   "source": [
    "model.fit(X_train, Y_train)"
   ]
  },
  {
   "cell_type": "code",
   "execution_count": 72,
   "id": "866b65d8",
   "metadata": {
    "execution": {
     "iopub.execute_input": "2022-02-16T16:42:48.083358Z",
     "iopub.status.busy": "2022-02-16T16:42:48.080970Z",
     "iopub.status.idle": "2022-02-16T16:42:48.087308Z",
     "shell.execute_reply": "2022-02-16T16:42:48.087876Z",
     "shell.execute_reply.started": "2022-02-16T16:38:27.435310Z"
    },
    "papermill": {
     "duration": 0.064969,
     "end_time": "2022-02-16T16:42:48.088076",
     "exception": false,
     "start_time": "2022-02-16T16:42:48.023107",
     "status": "completed"
    },
    "tags": [],
    "ExecuteTime": {
     "end_time": "2023-12-20T17:37:02.026105100Z",
     "start_time": "2023-12-20T17:37:01.615922400Z"
    }
   },
   "outputs": [],
   "source": [
    "# accuracy score on the training data\n",
    "X_train_prediction = model.predict(X_train)\n",
    "training_data_accuracy = accuracy_score(X_train_prediction, Y_train)"
   ]
  },
  {
   "cell_type": "code",
   "execution_count": 73,
   "id": "4f813568",
   "metadata": {
    "execution": {
     "iopub.execute_input": "2022-02-16T16:42:48.201896Z",
     "iopub.status.busy": "2022-02-16T16:42:48.200599Z",
     "iopub.status.idle": "2022-02-16T16:42:48.205918Z",
     "shell.execute_reply": "2022-02-16T16:42:48.206564Z",
     "shell.execute_reply.started": "2022-02-16T16:38:27.463680Z"
    },
    "papermill": {
     "duration": 0.063837,
     "end_time": "2022-02-16T16:42:48.206748",
     "exception": false,
     "start_time": "2022-02-16T16:42:48.142911",
     "status": "completed"
    },
    "tags": [],
    "ExecuteTime": {
     "end_time": "2023-12-20T17:37:02.310418300Z",
     "start_time": "2023-12-20T17:37:01.668479800Z"
    }
   },
   "outputs": [
    {
     "name": "stdout",
     "output_type": "stream",
     "text": [
      "Accuracy score of the training data :  0.8280985617597293\n"
     ]
    }
   ],
   "source": [
    "print('Accuracy score of the training data : ', training_data_accuracy)"
   ]
  },
  {
   "cell_type": "code",
   "execution_count": 74,
   "id": "018c40c7",
   "metadata": {
    "execution": {
     "iopub.execute_input": "2022-02-16T16:42:48.322169Z",
     "iopub.status.busy": "2022-02-16T16:42:48.321506Z",
     "iopub.status.idle": "2022-02-16T16:42:48.325747Z",
     "shell.execute_reply": "2022-02-16T16:42:48.326236Z",
     "shell.execute_reply.started": "2022-02-16T16:38:27.487449Z"
    },
    "papermill": {
     "duration": 0.063965,
     "end_time": "2022-02-16T16:42:48.326433",
     "exception": false,
     "start_time": "2022-02-16T16:42:48.262468",
     "status": "completed"
    },
    "tags": [],
    "ExecuteTime": {
     "end_time": "2023-12-20T17:37:02.404967500Z",
     "start_time": "2023-12-20T17:37:01.696479700Z"
    }
   },
   "outputs": [],
   "source": [
    "# accuracy score on the test data\n",
    "X_test_prediction = model.predict(X_test)\n",
    "test_data_accuracy = accuracy_score(X_test_prediction, Y_test)"
   ]
  },
  {
   "cell_type": "code",
   "execution_count": 75,
   "id": "36d230d4",
   "metadata": {
    "execution": {
     "iopub.execute_input": "2022-02-16T16:42:48.441619Z",
     "iopub.status.busy": "2022-02-16T16:42:48.439693Z",
     "iopub.status.idle": "2022-02-16T16:42:48.446797Z",
     "shell.execute_reply": "2022-02-16T16:42:48.445982Z",
     "shell.execute_reply.started": "2022-02-16T16:38:27.526302Z"
    },
    "papermill": {
     "duration": 0.064997,
     "end_time": "2022-02-16T16:42:48.446999",
     "exception": false,
     "start_time": "2022-02-16T16:42:48.382002",
     "status": "completed"
    },
    "tags": [],
    "ExecuteTime": {
     "end_time": "2023-12-20T17:37:02.482514400Z",
     "start_time": "2023-12-20T17:37:01.747494600Z"
    }
   },
   "outputs": [
    {
     "name": "stdout",
     "output_type": "stream",
     "text": [
      "Accuracy score of the test data :  0.7785532994923858\n"
     ]
    }
   ],
   "source": [
    "print('Accuracy score of the test data : ', test_data_accuracy)"
   ]
  },
  {
   "cell_type": "markdown",
   "id": "730400be",
   "metadata": {
    "papermill": {
     "duration": 0.05369,
     "end_time": "2022-02-16T16:42:48.558558",
     "exception": false,
     "start_time": "2022-02-16T16:42:48.504868",
     "status": "completed"
    },
    "tags": []
   },
   "source": [
    "**CONFUSION MATRIX:**\n",
    "\n",
    "* The confusion matrix is a 2 dimensional array comparing predicted category labels to the true label. \n",
    "\n"
   ]
  },
  {
   "cell_type": "code",
   "execution_count": 76,
   "id": "dcc5f8bc",
   "metadata": {
    "execution": {
     "iopub.execute_input": "2022-02-16T16:42:48.671170Z",
     "iopub.status.busy": "2022-02-16T16:42:48.670248Z",
     "iopub.status.idle": "2022-02-16T16:42:48.679431Z",
     "shell.execute_reply": "2022-02-16T16:42:48.679999Z",
     "shell.execute_reply.started": "2022-02-16T16:38:27.537699Z"
    },
    "papermill": {
     "duration": 0.06699,
     "end_time": "2022-02-16T16:42:48.680156",
     "exception": false,
     "start_time": "2022-02-16T16:42:48.613166",
     "status": "completed"
    },
    "tags": [],
    "ExecuteTime": {
     "end_time": "2023-12-20T17:37:04.927047300Z",
     "start_time": "2023-12-20T17:37:01.775027800Z"
    }
   },
   "outputs": [],
   "source": [
    "import matplotlib.pyplot as plt\n",
    "\n",
    "def plot_confusion_matrix(cm, classes,\n",
    "                          normalize=False,\n",
    "                          title='Confusion matrix',\n",
    "                          cmap=plt.cm.Purples):\n",
    "    plt.imshow(cm, interpolation='nearest', cmap=cmap)\n",
    "    plt.title(title)\n",
    "    plt.colorbar()\n",
    "    tick_marks = np.arange(len(classes))\n",
    "    plt.xticks(tick_marks, classes, rotation=45)\n",
    "    plt.yticks(tick_marks, classes)\n",
    "\n",
    "    if normalize:\n",
    "        cm = cm.astype('float') / cm.sum(axis=1)[:, np.newaxis]\n",
    "        print(\"Normalized confusion matrix\")\n",
    "    else:\n",
    "        print('Confusion matrix, without normalization')\n",
    "\n",
    "    thresh = cm.max() / 2.\n",
    "    for i, j in itertools.product(range(cm.shape[0]), range(cm.shape[1])):\n",
    "        plt.text(j, i, cm[i, j],\n",
    "                 horizontalalignment=\"center\",\n",
    "                 color=\"white\" if cm[i, j] > thresh else \"black\")\n",
    "\n",
    "    plt.tight_layout()\n",
    "    plt.ylabel('True label')\n",
    "    plt.xlabel('Predicted label')\n",
    "\n",
    "\n",
    "        \n",
    "\n",
    "    \n",
    "    "
   ]
  },
  {
   "cell_type": "code",
   "execution_count": 77,
   "id": "1338dcae",
   "metadata": {
    "execution": {
     "iopub.execute_input": "2022-02-16T16:42:48.791747Z",
     "iopub.status.busy": "2022-02-16T16:42:48.790837Z",
     "iopub.status.idle": "2022-02-16T16:42:48.799240Z",
     "shell.execute_reply": "2022-02-16T16:42:48.799811Z",
     "shell.execute_reply.started": "2022-02-16T16:38:27.550511Z"
    },
    "papermill": {
     "duration": 0.065824,
     "end_time": "2022-02-16T16:42:48.799976",
     "exception": false,
     "start_time": "2022-02-16T16:42:48.734152",
     "status": "completed"
    },
    "tags": [],
    "ExecuteTime": {
     "end_time": "2023-12-20T17:37:05.079163Z",
     "start_time": "2023-12-20T17:37:04.934043200Z"
    }
   },
   "outputs": [],
   "source": [
    "X1_train, X1_test, Y1_train, Y1_test = train_test_split(X, Y, test_size=0.33, random_state=42)"
   ]
  },
  {
   "cell_type": "markdown",
   "id": "3a8853ba",
   "metadata": {
    "papermill": {
     "duration": 0.053783,
     "end_time": "2022-02-16T16:42:48.907991",
     "exception": false,
     "start_time": "2022-02-16T16:42:48.854208",
     "status": "completed"
    },
    "tags": []
   },
   "source": [
    "**CLASSIFICATION MODEL : MULTINOMIAL NAIVE BAYES**\n",
    "\n",
    "* Multinomial Naive Bayes algorithm is a probabilistic learning method that is mostly used in Natural Language Processing (NLP)\n",
    "\n",
    "* Multinomial Naïve Bayes uses term frequency i.e. the number of times a given term appears in a document. Term frequency is often normalized by dividing the raw term frequency by the document length\n"
   ]
  },
  {
   "cell_type": "code",
   "execution_count": 78,
   "id": "d4df3126",
   "metadata": {
    "execution": {
     "iopub.execute_input": "2022-02-16T16:42:49.020060Z",
     "iopub.status.busy": "2022-02-16T16:42:49.019137Z",
     "iopub.status.idle": "2022-02-16T16:42:49.027566Z",
     "shell.execute_reply": "2022-02-16T16:42:49.027003Z",
     "shell.execute_reply.started": "2022-02-16T16:38:27.573556Z"
    },
    "papermill": {
     "duration": 0.065506,
     "end_time": "2022-02-16T16:42:49.027711",
     "exception": false,
     "start_time": "2022-02-16T16:42:48.962205",
     "status": "completed"
    },
    "tags": [],
    "ExecuteTime": {
     "end_time": "2023-12-20T17:37:05.286266600Z",
     "start_time": "2023-12-20T17:37:05.032602600Z"
    }
   },
   "outputs": [],
   "source": [
    "#let's implement the model : Multinomial Naive Bayes\n",
    "from sklearn.naive_bayes import MultinomialNB\n",
    "classifier=MultinomialNB()"
   ]
  },
  {
   "cell_type": "code",
   "execution_count": 79,
   "id": "de3a2414",
   "metadata": {
    "execution": {
     "iopub.execute_input": "2022-02-16T16:42:49.145001Z",
     "iopub.status.busy": "2022-02-16T16:42:49.144056Z",
     "iopub.status.idle": "2022-02-16T16:42:49.404142Z",
     "shell.execute_reply": "2022-02-16T16:42:49.403518Z",
     "shell.execute_reply.started": "2022-02-16T16:38:27.738764Z"
    },
    "papermill": {
     "duration": 0.321533,
     "end_time": "2022-02-16T16:42:49.404278",
     "exception": false,
     "start_time": "2022-02-16T16:42:49.082745",
     "status": "completed"
    },
    "tags": [],
    "ExecuteTime": {
     "end_time": "2023-12-20T17:37:06.160309Z",
     "start_time": "2023-12-20T17:37:05.073162500Z"
    }
   },
   "outputs": [
    {
     "name": "stdout",
     "output_type": "stream",
     "text": [
      "accuracy:   0.761\n",
      "Confusion matrix, without normalization\n"
     ]
    },
    {
     "data": {
      "text/plain": "<Figure size 640x480 with 2 Axes>",
      "image/png": "[encoded data removed]"
     },
     "metadata": {},
     "output_type": "display_data"
    }
   ],
   "source": [
    "from sklearn import metrics\n",
    "import numpy as np\n",
    "import itertools\n",
    "\n",
    "classifier.fit(X1_train, Y1_train)\n",
    "prediction1 = classifier.predict(X1_test)\n",
    "score = metrics.accuracy_score(Y1_test, prediction1)\n",
    "print(\"accuracy:   %0.3f\" % score)\n",
    "cm1 = metrics.confusion_matrix(Y1_test, prediction1)\n",
    "plot_confusion_matrix(cm1, classes=['FAKE', 'REAL'])"
   ]
  },
  {
   "cell_type": "markdown",
   "id": "2f255f57",
   "metadata": {
    "papermill": {
     "duration": 0.056053,
     "end_time": "2022-02-16T16:42:49.516553",
     "exception": false,
     "start_time": "2022-02-16T16:42:49.460500",
     "status": "completed"
    },
    "tags": []
   },
   "source": [
    "**CLASSIFICATION MODEL : PASSIVE AGGRESSIVE CLASSIFIER**\n",
    "\n",
    "* Passive Aggressive Classifier works by responding as passive for correct classifications and responding as aggressive for any miscalculation."
   ]
  },
  {
   "cell_type": "code",
   "execution_count": 80,
   "id": "7bb70d8c",
   "metadata": {
    "execution": {
     "iopub.execute_input": "2022-02-16T16:42:49.635456Z",
     "iopub.status.busy": "2022-02-16T16:42:49.634759Z",
     "iopub.status.idle": "2022-02-16T16:42:49.640985Z",
     "shell.execute_reply": "2022-02-16T16:42:49.641624Z",
     "shell.execute_reply.started": "2022-02-16T16:38:28.063622Z"
    },
    "papermill": {
     "duration": 0.069266,
     "end_time": "2022-02-16T16:42:49.641788",
     "exception": false,
     "start_time": "2022-02-16T16:42:49.572522",
     "status": "completed"
    },
    "tags": [],
    "ExecuteTime": {
     "end_time": "2023-12-20T17:37:06.706111200Z",
     "start_time": "2023-12-20T17:37:06.140752400Z"
    }
   },
   "outputs": [],
   "source": [
    "X2_train, X2_test, Y2_train, Y2_test = train_test_split(X, Y, test_size=0.33, random_state=42)"
   ]
  },
  {
   "cell_type": "code",
   "execution_count": 81,
   "id": "1e89684c",
   "metadata": {
    "execution": {
     "iopub.execute_input": "2022-02-16T16:42:49.758528Z",
     "iopub.status.busy": "2022-02-16T16:42:49.757576Z",
     "iopub.status.idle": "2022-02-16T16:42:50.043272Z",
     "shell.execute_reply": "2022-02-16T16:42:50.042708Z",
     "shell.execute_reply.started": "2022-02-16T16:38:28.075269Z"
    },
    "papermill": {
     "duration": 0.345353,
     "end_time": "2022-02-16T16:42:50.043449",
     "exception": false,
     "start_time": "2022-02-16T16:42:49.698096",
     "status": "completed"
    },
    "tags": [],
    "ExecuteTime": {
     "end_time": "2023-12-20T17:37:08.027511500Z",
     "start_time": "2023-12-20T17:37:06.257861300Z"
    }
   },
   "outputs": [
    {
     "name": "stderr",
     "output_type": "stream",
     "text": [
      "C:\\Users\\artem\\AppData\\Local\\Programs\\Python\\Python310\\lib\\site-packages\\sklearn\\linear_model\\_stochastic_gradient.py:713: ConvergenceWarning: Maximum number of iteration reached before convergence. Consider increasing max_iter to improve the fit.\n",
      "  warnings.warn(\n"
     ]
    },
    {
     "name": "stdout",
     "output_type": "stream",
     "text": [
      "accuracy:   0.709\n",
      "Confusion matrix, without normalization\n"
     ]
    },
    {
     "data": {
      "text/plain": "<Figure size 640x480 with 2 Axes>",
      "image/png": "[encoded data removed]"
     },
     "metadata": {},
     "output_type": "display_data"
    }
   ],
   "source": [
    "#lets implemet the algorithm : Passive Aggressive Classifier\n",
    "from sklearn.linear_model import PassiveAggressiveClassifier\n",
    "linear_clf = PassiveAggressiveClassifier(max_iter=50)\n",
    "\n",
    "linear_clf.fit(X2_train, Y2_train)\n",
    "prediction2 = linear_clf.predict(X2_test)\n",
    "score = metrics.accuracy_score(Y2_test, prediction2)\n",
    "print(\"accuracy:   %0.3f\" % score)\n",
    "cm2 = metrics.confusion_matrix(Y2_test, prediction2)\n",
    "plot_confusion_matrix(cm2, classes=['FAKE Data', 'REAL Data'])"
   ]
  },
  {
   "cell_type": "markdown",
   "id": "4f1d52af",
   "metadata": {
    "papermill": {
     "duration": 0.058039,
     "end_time": "2022-02-16T16:42:50.159817",
     "exception": false,
     "start_time": "2022-02-16T16:42:50.101778",
     "status": "completed"
    },
    "tags": []
   },
   "source": [
    "**BUILDING A PREDICTIVE SYSTEM:**"
   ]
  },
  {
   "cell_type": "markdown",
   "id": "3d559dd7",
   "metadata": {
    "papermill": {
     "duration": 0.059362,
     "end_time": "2022-02-16T16:42:50.277595",
     "exception": false,
     "start_time": "2022-02-16T16:42:50.218233",
     "status": "completed"
    },
    "tags": []
   },
   "source": [
    "Building a predictive system inorder to find that the inital word in the dataset is real or fake using LogisticRegression model: "
   ]
  },
  {
   "cell_type": "code",
   "execution_count": 82,
   "id": "1102eb77",
   "metadata": {
    "execution": {
     "iopub.execute_input": "2022-02-16T16:42:50.399685Z",
     "iopub.status.busy": "2022-02-16T16:42:50.399013Z",
     "iopub.status.idle": "2022-02-16T16:42:50.401547Z",
     "shell.execute_reply": "2022-02-16T16:42:50.402034Z",
     "shell.execute_reply.started": "2022-02-16T16:38:28.428693Z"
    },
    "papermill": {
     "duration": 0.067116,
     "end_time": "2022-02-16T16:42:50.402210",
     "exception": false,
     "start_time": "2022-02-16T16:42:50.335094",
     "status": "completed"
    },
    "tags": [],
    "ExecuteTime": {
     "end_time": "2023-12-20T17:37:08.413769300Z",
     "start_time": "2023-12-20T17:37:07.973512900Z"
    }
   },
   "outputs": [
    {
     "name": "stdout",
     "output_type": "stream",
     "text": [
      "[1]\n",
      "The news is Fake\n"
     ]
    }
   ],
   "source": [
    "X_new = X_test[0]\n",
    "\n",
    "prediction = model.predict(X_new)\n",
    "print(prediction)\n",
    "\n",
    "if (prediction[0]==0):\n",
    "  print('The news is Real')\n",
    "else:\n",
    "  print('The news is Fake')"
   ]
  },
  {
   "cell_type": "code",
   "execution_count": 83,
   "id": "c6a24b22",
   "metadata": {
    "execution": {
     "iopub.execute_input": "2022-02-16T16:42:50.524603Z",
     "iopub.status.busy": "2022-02-16T16:42:50.523980Z",
     "iopub.status.idle": "2022-02-16T16:42:50.527643Z",
     "shell.execute_reply": "2022-02-16T16:42:50.527057Z",
     "shell.execute_reply.started": "2022-02-16T16:38:28.437267Z"
    },
    "papermill": {
     "duration": 0.067583,
     "end_time": "2022-02-16T16:42:50.527800",
     "exception": false,
     "start_time": "2022-02-16T16:42:50.460217",
     "status": "completed"
    },
    "tags": [],
    "ExecuteTime": {
     "end_time": "2023-12-20T17:37:08.493350400Z",
     "start_time": "2023-12-20T17:37:08.009512500Z"
    }
   },
   "outputs": [
    {
     "name": "stdout",
     "output_type": "stream",
     "text": [
      "1\n"
     ]
    }
   ],
   "source": [
    "print(Y_test[0])"
   ]
  },
  {
   "cell_type": "markdown",
   "id": "bbf67f58",
   "metadata": {
    "papermill": {
     "duration": 0.05797,
     "end_time": "2022-02-16T16:42:50.644500",
     "exception": false,
     "start_time": "2022-02-16T16:42:50.586530",
     "status": "completed"
    },
    "tags": []
   },
   "source": [
    "Building a predictive system inorder to find that the inital word in the dataset is real or fake using Multinomial Naive Bayes model: "
   ]
  },
  {
   "cell_type": "code",
   "execution_count": 84,
   "id": "b86aeb46",
   "metadata": {
    "execution": {
     "iopub.execute_input": "2022-02-16T16:42:50.770178Z",
     "iopub.status.busy": "2022-02-16T16:42:50.769523Z",
     "iopub.status.idle": "2022-02-16T16:42:50.773606Z",
     "shell.execute_reply": "2022-02-16T16:42:50.773078Z",
     "shell.execute_reply.started": "2022-02-16T16:38:28.447749Z"
    },
    "papermill": {
     "duration": 0.069909,
     "end_time": "2022-02-16T16:42:50.773747",
     "exception": false,
     "start_time": "2022-02-16T16:42:50.703838",
     "status": "completed"
    },
    "tags": [],
    "ExecuteTime": {
     "end_time": "2023-12-20T17:37:08.591867600Z",
     "start_time": "2023-12-20T17:37:08.037510200Z"
    }
   },
   "outputs": [
    {
     "name": "stdout",
     "output_type": "stream",
     "text": [
      "[0]\n",
      "The news is Real\n"
     ]
    }
   ],
   "source": [
    "X1_new = X1_test[0]\n",
    "\n",
    "prediction = model.predict(X1_new)\n",
    "print(prediction)\n",
    "\n",
    "if (prediction[0]==0):\n",
    "  print('The news is Real')\n",
    "else:\n",
    "  print('The news is Fake')"
   ]
  },
  {
   "cell_type": "code",
   "execution_count": 85,
   "id": "ba10717c",
   "metadata": {
    "execution": {
     "iopub.execute_input": "2022-02-16T16:42:50.896209Z",
     "iopub.status.busy": "2022-02-16T16:42:50.895557Z",
     "iopub.status.idle": "2022-02-16T16:42:50.898596Z",
     "shell.execute_reply": "2022-02-16T16:42:50.898086Z",
     "shell.execute_reply.started": "2022-02-16T16:38:28.461272Z"
    },
    "papermill": {
     "duration": 0.065829,
     "end_time": "2022-02-16T16:42:50.898751",
     "exception": false,
     "start_time": "2022-02-16T16:42:50.832922",
     "status": "completed"
    },
    "tags": [],
    "ExecuteTime": {
     "end_time": "2023-12-20T17:37:08.698401600Z",
     "start_time": "2023-12-20T17:37:08.068078500Z"
    }
   },
   "outputs": [
    {
     "name": "stdout",
     "output_type": "stream",
     "text": [
      "0\n"
     ]
    }
   ],
   "source": [
    "print(Y1_test[0])"
   ]
  },
  {
   "cell_type": "markdown",
   "id": "099a9e7e",
   "metadata": {
    "papermill": {
     "duration": 0.058348,
     "end_time": "2022-02-16T16:42:51.018189",
     "exception": false,
     "start_time": "2022-02-16T16:42:50.959841",
     "status": "completed"
    },
    "tags": []
   },
   "source": [
    "Building a predictive system inorder to find that the inital word in the dataset is real or fake using Passive Aggressive Classifier: "
   ]
  },
  {
   "cell_type": "code",
   "execution_count": 86,
   "id": "3813b0fc",
   "metadata": {
    "execution": {
     "iopub.execute_input": "2022-02-16T16:42:51.142866Z",
     "iopub.status.busy": "2022-02-16T16:42:51.142191Z",
     "iopub.status.idle": "2022-02-16T16:42:51.145928Z",
     "shell.execute_reply": "2022-02-16T16:42:51.145374Z",
     "shell.execute_reply.started": "2022-02-16T16:38:28.469657Z"
    },
    "papermill": {
     "duration": 0.068706,
     "end_time": "2022-02-16T16:42:51.146071",
     "exception": false,
     "start_time": "2022-02-16T16:42:51.077365",
     "status": "completed"
    },
    "tags": [],
    "ExecuteTime": {
     "end_time": "2023-12-20T17:37:08.702399800Z",
     "start_time": "2023-12-20T17:37:08.100079300Z"
    }
   },
   "outputs": [
    {
     "name": "stdout",
     "output_type": "stream",
     "text": [
      "[0]\n",
      "The news is Real\n"
     ]
    }
   ],
   "source": [
    "X2_new = X2_test[0]\n",
    "\n",
    "prediction = model.predict(X2_new)\n",
    "print(prediction)\n",
    "\n",
    "if (prediction[0]==0):\n",
    "  print('The news is Real')\n",
    "else:\n",
    "  print('The news is Fake')"
   ]
  },
  {
   "cell_type": "code",
   "execution_count": 87,
   "id": "05f7a3ca",
   "metadata": {
    "execution": {
     "iopub.execute_input": "2022-02-16T16:42:51.269001Z",
     "iopub.status.busy": "2022-02-16T16:42:51.268344Z",
     "iopub.status.idle": "2022-02-16T16:42:51.271076Z",
     "shell.execute_reply": "2022-02-16T16:42:51.272125Z",
     "shell.execute_reply.started": "2022-02-16T16:38:28.482371Z"
    },
    "papermill": {
     "duration": 0.066871,
     "end_time": "2022-02-16T16:42:51.272345",
     "exception": false,
     "start_time": "2022-02-16T16:42:51.205474",
     "status": "completed"
    },
    "tags": [],
    "ExecuteTime": {
     "end_time": "2023-12-20T17:37:08.969027500Z",
     "start_time": "2023-12-20T17:37:08.145101900Z"
    }
   },
   "outputs": [
    {
     "name": "stdout",
     "output_type": "stream",
     "text": [
      "0\n"
     ]
    }
   ],
   "source": [
    "print(Y2_test[0])"
   ]
  },
  {
   "cell_type": "markdown",
   "id": "95a0c987",
   "metadata": {
    "papermill": {
     "duration": 0.058635,
     "end_time": "2022-02-16T16:42:51.390284",
     "exception": false,
     "start_time": "2022-02-16T16:42:51.331649",
     "status": "completed"
    },
    "tags": []
   },
   "source": [
    "**CLASSIFICATION REPORT:**\n",
    "\n",
    "* A Classification report is used to measure the quality of predictions from a classification algorithm.\n",
    "\n",
    "* It is used to show the precision, recall, F1 Score, and support of your trained classification model."
   ]
  },
  {
   "cell_type": "markdown",
   "id": "f0366c77",
   "metadata": {
    "papermill": {
     "duration": 0.058672,
     "end_time": "2022-02-16T16:42:51.508188",
     "exception": false,
     "start_time": "2022-02-16T16:42:51.449516",
     "status": "completed"
    },
    "tags": []
   },
   "source": [
    "Classification report for logistic regression model:"
   ]
  },
  {
   "cell_type": "code",
   "execution_count": 88,
   "id": "aff9c16c",
   "metadata": {
    "execution": {
     "iopub.execute_input": "2022-02-16T16:42:51.631728Z",
     "iopub.status.busy": "2022-02-16T16:42:51.631084Z",
     "iopub.status.idle": "2022-02-16T16:42:51.645052Z",
     "shell.execute_reply": "2022-02-16T16:42:51.644403Z",
     "shell.execute_reply.started": "2022-02-16T16:38:28.490593Z"
    },
    "papermill": {
     "duration": 0.078117,
     "end_time": "2022-02-16T16:42:51.645203",
     "exception": false,
     "start_time": "2022-02-16T16:42:51.567086",
     "status": "completed"
    },
    "tags": [],
    "ExecuteTime": {
     "end_time": "2023-12-20T17:37:08.973025100Z",
     "start_time": "2023-12-20T17:37:08.180636600Z"
    }
   },
   "outputs": [
    {
     "name": "stdout",
     "output_type": "stream",
     "text": [
      "              precision    recall  f1-score   support\n",
      "\n",
      "           0       0.81      0.63      0.71      2018\n",
      "           1       0.76      0.89      0.82      2710\n",
      "\n",
      "    accuracy                           0.78      4728\n",
      "   macro avg       0.79      0.76      0.76      4728\n",
      "weighted avg       0.78      0.78      0.77      4728\n"
     ]
    }
   ],
   "source": [
    "from sklearn.metrics import classification_report\n",
    "print(classification_report(Y_test, X_test_prediction))"
   ]
  },
  {
   "cell_type": "code",
   "execution_count": 89,
   "id": "5addb588",
   "metadata": {
    "execution": {
     "iopub.execute_input": "2022-02-16T16:42:51.770802Z",
     "iopub.status.busy": "2022-02-16T16:42:51.766916Z",
     "iopub.status.idle": "2022-02-16T16:42:51.788253Z",
     "shell.execute_reply": "2022-02-16T16:42:51.787406Z",
     "shell.execute_reply.started": "2022-02-16T16:38:28.514700Z"
    },
    "papermill": {
     "duration": 0.084504,
     "end_time": "2022-02-16T16:42:51.788707",
     "exception": false,
     "start_time": "2022-02-16T16:42:51.704203",
     "status": "completed"
    },
    "tags": [],
    "ExecuteTime": {
     "end_time": "2023-12-20T17:37:09.066562900Z",
     "start_time": "2023-12-20T17:37:08.258211Z"
    }
   },
   "outputs": [
    {
     "name": "stdout",
     "output_type": "stream",
     "text": [
      "              precision    recall  f1-score   support\n",
      "\n",
      "           0       0.87      0.52      0.65      3352\n",
      "           1       0.72      0.94      0.82      4450\n",
      "\n",
      "    accuracy                           0.76      7802\n",
      "   macro avg       0.80      0.73      0.73      7802\n",
      "weighted avg       0.79      0.76      0.75      7802\n"
     ]
    }
   ],
   "source": [
    "from sklearn.metrics import classification_report\n",
    "print(classification_report(Y1_test,prediction1))"
   ]
  },
  {
   "cell_type": "code",
   "execution_count": 90,
   "id": "8ba21e27",
   "metadata": {
    "execution": {
     "iopub.execute_input": "2022-02-16T16:42:51.918078Z",
     "iopub.status.busy": "2022-02-16T16:42:51.916702Z",
     "iopub.status.idle": "2022-02-16T16:42:51.932835Z",
     "shell.execute_reply": "2022-02-16T16:42:51.933657Z",
     "shell.execute_reply.started": "2022-02-16T16:38:28.537107Z"
    },
    "papermill": {
     "duration": 0.08322,
     "end_time": "2022-02-16T16:42:51.933889",
     "exception": false,
     "start_time": "2022-02-16T16:42:51.850669",
     "status": "completed"
    },
    "tags": [],
    "ExecuteTime": {
     "end_time": "2023-12-20T17:37:09.160803800Z",
     "start_time": "2023-12-20T17:37:08.337210600Z"
    }
   },
   "outputs": [
    {
     "name": "stdout",
     "output_type": "stream",
     "text": [
      "              precision    recall  f1-score   support\n",
      "\n",
      "           0       0.67      0.64      0.65      3352\n",
      "           1       0.74      0.76      0.75      4450\n",
      "\n",
      "    accuracy                           0.71      7802\n",
      "   macro avg       0.70      0.70      0.70      7802\n",
      "weighted avg       0.71      0.71      0.71      7802\n"
     ]
    }
   ],
   "source": [
    "from sklearn.metrics import classification_report\n",
    "print(classification_report(Y2_test,prediction2))"
   ]
  },
  {
   "cell_type": "markdown",
   "id": "94b1012d",
   "metadata": {
    "papermill": {
     "duration": 0.060878,
     "end_time": "2022-02-16T16:42:52.056122",
     "exception": false,
     "start_time": "2022-02-16T16:42:51.995244",
     "status": "completed"
    },
    "tags": []
   },
   "source": [
    "**MODEL COMPARISON**\n",
    "\n",
    "Hence, in this dataset we can observe that\n",
    "\n",
    "* Logistic Regression : Accuracy is 0.98\n",
    "\n",
    "* Multinomial Naive Bayes : Accuracy is 0.95\n",
    "\n",
    "* Passive Aggressive Classifier : Accuracy is 0.99"
   ]
  },
  {
   "cell_type": "code",
   "execution_count": 91,
   "id": "b1f70ebc",
   "metadata": {
    "execution": {
     "iopub.execute_input": "2022-02-16T16:42:52.181039Z",
     "iopub.status.busy": "2022-02-16T16:42:52.180111Z",
     "iopub.status.idle": "2022-02-16T16:42:52.185079Z",
     "shell.execute_reply": "2022-02-16T16:42:52.185680Z",
     "shell.execute_reply.started": "2022-02-16T16:38:28.559429Z"
    },
    "papermill": {
     "duration": 0.06846,
     "end_time": "2022-02-16T16:42:52.185842",
     "exception": false,
     "start_time": "2022-02-16T16:42:52.117382",
     "status": "completed"
    },
    "tags": [],
    "ExecuteTime": {
     "end_time": "2023-12-20T17:37:09.164804700Z",
     "start_time": "2023-12-20T17:37:08.419770500Z"
    }
   },
   "outputs": [
    {
     "name": "stdout",
     "output_type": "stream",
     "text": [
      "Successfully we have predicted the fake news using logistic regression, Multinomial Naive Bayes & Passive Aggressive Classifier \n"
     ]
    }
   ],
   "source": [
    "print(\"Successfully we have predicted the fake news using logistic regression, Multinomial Naive Bayes & Passive Aggressive Classifier \")"
   ]
  },
  {
   "cell_type": "markdown",
   "id": "3d82f917",
   "metadata": {
    "papermill": {
     "duration": 0.061422,
     "end_time": "2022-02-16T16:42:52.307188",
     "exception": false,
     "start_time": "2022-02-16T16:42:52.245766",
     "status": "completed"
    },
    "tags": []
   },
   "source": [
    "According to Dr.Karishma Ahuja, \"**Speak your truth, Speaking your truth is an act of loving & respecting yourself**\"\n",
    "\n",
    "**Hence let's speak truth & every glittering ounce of it will be cherished,  hoarded, worshipped & fondled like a priceless diamond !!**"
   ]
  }
 ],
 "metadata": {
  "kernelspec": {
   "display_name": "Python 3",
   "language": "python",
   "name": "python3"
  },
  "language_info": {
   "codemirror_mode": {
    "name": "ipython",
    "version": 3
   },
   "file_extension": ".py",
   "mimetype": "text/x-python",
   "name": "python",
   "nbconvert_exporter": "python",
   "pygments_lexer": "ipython3",
   "version": "3.7.12"
  },
  "papermill": {
   "default_parameters": {},
   "duration": 71.828853,
   "end_time": "2022-02-16T16:42:53.181224",
   "environment_variables": {},
   "exception": null,
   "input_path": "__notebook__.ipynb",
   "output_path": "__notebook__.ipynb",
   "parameters": {},
   "start_time": "2022-02-16T16:41:41.352371",
   "version": "2.3.3"
  }
 },
 "nbformat": 4,
 "nbformat_minor": 5
}
